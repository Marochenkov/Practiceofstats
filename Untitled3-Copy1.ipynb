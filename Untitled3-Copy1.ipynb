{
 "cells": [
  {
   "cell_type": "code",
   "execution_count": 2,
   "metadata": {},
   "outputs": [
    {
     "name": "stdout",
     "output_type": "stream",
     "text": [
      "Vvedite chislo: 13\n",
      "13 Nechetnoe\n",
      "a: 15\n",
      "b: 5\n",
      "15 delitsya na  5\n"
     ]
    }
   ],
   "source": [
    "num = int(input(\"Vvedite chislo: \"))\n",
    "mod = num % 2\n",
    "if mod > 0:\n",
    "    print(num, \"Nechetnoe\")\n",
    "elif num % 4 == 0:\n",
    "    print(num, \"Delitsya na 4\")\n",
    "else:\n",
    "    print(num, \"Chetnoe\")\n",
    "a = int(input(\"a: \"))\n",
    "b = int(input(\"b: \"))\n",
    "if a % b == 0:\n",
    "    print(a, \"delitsya na \", b)\n",
    "else:\n",
    "    print(a, \"ne delitsya na \", b)"
   ]
  },
  {
   "cell_type": "code",
   "execution_count": 7,
   "metadata": {},
   "outputs": [
    {
     "name": "stdout",
     "output_type": "stream",
     "text": [
      "Vvedite stroky: 131343131\n",
      "Palindrom\n"
     ]
    }
   ],
   "source": [
    "f = str(input(\"Vvedite stroky: \"))\n",
    "c = 0\n",
    "i = 0\n",
    "while i < len(f) - 1:\n",
    "    if f[i] != f[len(f) - 1 - i]:\n",
    "       c += 1\n",
    "    i += 1\n",
    "if c == 0:\n",
    "    print(\"Palindrom\")\n",
    "else:\n",
    "    print(\"Ne palindrom\")"
   ]
  },
  {
   "cell_type": "code",
   "execution_count": null,
   "metadata": {},
   "outputs": [
    {
     "name": "stdout",
     "output_type": "stream",
     "text": [
      "Hotite sygrat'?(Y/N): Y\n",
      "1 Igrok vybiraet scissors\n",
      "2 Igrok vybiraet paper\n",
      "1 Igrok pobedil!\n",
      "Hotite sygrat'?(Y/N): Y\n",
      "1 Igrok vybiraet rock\n",
      "2 Igrok vybiraet paper\n",
      "2 Igrok pobedil!\n"
     ]
    }
   ],
   "source": [
    "def game(a, b):\n",
    "    if a == b:\n",
    "        return(\"Nichya\")\n",
    "    elif a == 'rock':\n",
    "        if b == 'scissors':\n",
    "            return(\"1 Igrok pobedil!\")\n",
    "        else:\n",
    "            return(\"2 Igrok pobedil!\")\n",
    "    elif a == 'scissors':\n",
    "        if b == 'paper':\n",
    "            return(\"1 Igrok pobedil!\")\n",
    "        else:\n",
    "            return(\"2 Igrok pobedil!\")\n",
    "    elif a == 'paper':\n",
    "        if b == 'rock':\n",
    "            return(\"1 Igrok pobedil!\")\n",
    "        else:\n",
    "            return(\"2 Igrok pobedil!\")\n",
    "        print(game(player1, player2))\n",
    "i = 0\n",
    "while i == 0:\n",
    "    ans = input(\"Hotite sygrat'?(Y/N): \")\n",
    "    if ans == 'Y':\n",
    "        player1 = input(\"1 Igrok vybiraet \" )\n",
    "        player2 = input(\"2 Igrok vybiraet \" )\n",
    "        print(game(player1, player2))\n",
    "    elif ans == 'N':\n",
    "        break\n",
    "        "
   ]
  },
  {
   "cell_type": "code",
   "execution_count": null,
   "metadata": {},
   "outputs": [],
   "source": []
  },
  {
   "cell_type": "code",
   "execution_count": null,
   "metadata": {},
   "outputs": [],
   "source": []
  }
 ],
 "metadata": {
  "kernelspec": {
   "display_name": "Python 3",
   "language": "python",
   "name": "python3"
  },
  "language_info": {
   "codemirror_mode": {
    "name": "ipython",
    "version": 3
   },
   "file_extension": ".py",
   "mimetype": "text/x-python",
   "name": "python",
   "nbconvert_exporter": "python",
   "pygments_lexer": "ipython3",
   "version": "3.7.1"
  }
 },
 "nbformat": 4,
 "nbformat_minor": 2
}
